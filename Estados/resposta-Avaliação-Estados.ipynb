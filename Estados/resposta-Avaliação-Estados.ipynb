{
 "cells": [
  {
   "attachments": {},
   "cell_type": "markdown",
   "metadata": {},
   "source": [
    "# Trabalho avaliativo - Sistemas de controle II - 2023.2\n",
    "\n",
    "**Leia com atenção as instruções abaixo**"
   ]
  },
  {
   "attachments": {},
   "cell_type": "markdown",
   "metadata": {},
   "source": [
    "*Informe na célula de código abaixo o seu número de matrícula:* \n",
    "\n",
    "***Não remova as aspas***"
   ]
  },
  {
   "cell_type": "code",
   "execution_count": 29,
   "metadata": {},
   "outputs": [],
   "source": [
    "# Informe aqui sua matrícula\n",
    "mat = '201833940003'"
   ]
  },
  {
   "attachments": {},
   "cell_type": "markdown",
   "metadata": {},
   "source": [
    "*Depois de informar os dados, execute o arquivo inteiro. Caso ocorra algum erro, peça ajuda ao professor*\n",
    "\n",
    "*Resolva as questões abaixo, **justificando** todas as respostas. Utilize markdown para escrever texto e Python para fazer as contas. O trabalho é individual*"
   ]
  },
  {
   "cell_type": "code",
   "execution_count": 30,
   "metadata": {},
   "outputs": [],
   "source": [
    "# \n",
    "# Não modifique esta célula! Você pode comprometer a sua avaliação.\n",
    "from numpy.random import RandomState\n",
    "from IPython.display import display, Math\n",
    "from sympy import symbols, sin, cos, latex\n",
    "from sympy import ImmutableMatrix as matriz\n",
    "from numpy import arange\n",
    "import control as ct\n",
    "import numpy as np\n",
    "from matplotlib import pyplot as plt\n",
    "\n",
    "_nn = int(mat[0:4]+mat[-2:])\n",
    "_rng = RandomState(_nn)\n",
    "#_dig = arange(-9,10)\n",
    "#_dig = _dig[_dig!=0]\n",
    "#_n = _rng.randint(0,_dig.size,20)\n",
    "_n = _rng.random(size=(4,)).round(3)\n",
    "def G(): \n",
    "    s = symbols('s')\n",
    "    c = .5+0.10*_n[0]\n",
    "    d = .5+0.25*_n[1]\n",
    "    a = .2+0.15*_n[2]\n",
    "    b = 9+_n[3]\n",
    "    b0 = (b*c**2*d).round(3)\n",
    "    b1 = (a*b*c**2*d).round(3)\n",
    "    G = (b1*s+b0)/((s+c)**2*(s+d))\n",
    "    display(Math('G(s) = ' + latex(G)))"
   ]
  },
  {
   "attachments": {},
   "cell_type": "markdown",
   "metadata": {},
   "source": [
    "## 1."
   ]
  },
  {
   "attachments": {},
   "cell_type": "markdown",
   "metadata": {},
   "source": [
    "*Considere o sistema:*"
   ]
  },
  {
   "cell_type": "code",
   "execution_count": 31,
   "metadata": {},
   "outputs": [
    {
     "data": {
      "text/latex": [
       "$\\displaystyle G(s) = \\frac{0.455 s + 2.234}{\\left(s + 0.5753\\right)^{2} \\left(s + 0.69625\\right)}$"
      ],
      "text/plain": [
       "<IPython.core.display.Math object>"
      ]
     },
     "metadata": {},
     "output_type": "display_data"
    }
   ],
   "source": [
    "G()"
   ]
  },
  {
   "cell_type": "code",
   "execution_count": 32,
   "metadata": {},
   "outputs": [
    {
     "name": "stdout",
     "output_type": "stream",
     "text": [
      "Denominador =  [1.         1.84685    1.13207534 0.23043793]\n"
     ]
    }
   ],
   "source": [
    "den = np.poly([-0.5753, -0.5753,-0.69625])\n",
    "print(\"Denominador = \", den)"
   ]
  },
  {
   "attachments": {},
   "cell_type": "markdown",
   "metadata": {},
   "source": [
    "1. *Faça uma análise de malha aberta: verifique estabilidade e características de resposta ao degrau unitário (25%). Opcional: analise o que aconteceria caso fosse utilizada realimentação proporcional (+10% extra)*\n",
    "\n",
    "2. *Proponha especificações de desempenho em malha fechada com base na análise de malha aberta do item 1 (20%).*\n",
    "\n",
    "3. *Projete um compensador de estados de ordem completa, de acordo com as especificações estabelecidas no item 2 e também forneça rejeição à distúrbios do tipo degrau. Justifique as escolhas de todos os pólos e apresente as funções de transferência do compensador ao final (35%).*\n",
    "\n",
    "4. *Analise e simule o sistema em malha fechada. Plote e analise os sinais de saída e de controle (20%). Opcional: faça uma análise de resposta a uma perturbação (+10% extra)*"
   ]
  },
  {
   "attachments": {},
   "cell_type": "markdown",
   "metadata": {},
   "source": [
    "## Solução 1.\n",
    "1. *Faça uma análise de malha aberta: verifique estabilidade e características de resposta ao degrau unitário (25%). Opcional: analise o que aconteceria caso fosse utilizada realimentação proporcional (+10% extra)*"
   ]
  },
  {
   "attachments": {},
   "cell_type": "markdown",
   "metadata": {},
   "source": [
    "Obtendo a Função de Transferência da Planta"
   ]
  },
  {
   "cell_type": "code",
   "execution_count": 33,
   "metadata": {},
   "outputs": [
    {
     "data": {
      "text/latex": [
       "$$\\frac{0.455 s + 2.234}{s^3 + 1.847 s^2 + 1.132 s + 0.2304}$$"
      ],
      "text/plain": [
       "TransferFunction(array([0.455, 2.234]), array([1.        , 1.84685   , 1.13207534, 0.23043793]))"
      ]
     },
     "execution_count": 33,
     "metadata": {},
     "output_type": "execute_result"
    }
   ],
   "source": [
    "num = np.array([0.455, 2.234])\n",
    "Gs = ct.TransferFunction(num, den)\n",
    "Gs"
   ]
  },
  {
   "attachments": {},
   "cell_type": "markdown",
   "metadata": {},
   "source": [
    "## Análise da Estabiblidade"
   ]
  },
  {
   "attachments": {},
   "cell_type": "markdown",
   "metadata": {},
   "source": [
    "Agora podemos verificar os pólos de malha aberta, amortecimento e frequência natual do sistema"
   ]
  },
  {
   "cell_type": "code",
   "execution_count": 34,
   "metadata": {},
   "outputs": [
    {
     "name": "stdout",
     "output_type": "stream",
     "text": [
      "_____Eigenvalue______ Damping___ Frequency_\n",
      "   -0.6962                     1     0.6962\n",
      "   -0.5753                     1     0.5753\n",
      "   -0.5753                     1     0.5753\n"
     ]
    }
   ],
   "source": [
    "ct.damp(Gs);"
   ]
  },
  {
   "attachments": {},
   "cell_type": "markdown",
   "metadata": {},
   "source": [
    "os polos são negativos, ou seja, estão na parte esquerda do plano complexo. a consequencia disso e que o sistema é estável."
   ]
  },
  {
   "attachments": {},
   "cell_type": "markdown",
   "metadata": {},
   "source": [
    "## Resposta ao degrau em malha aberta"
   ]
  },
  {
   "cell_type": "code",
   "execution_count": 35,
   "metadata": {},
   "outputs": [
    {
     "data": {
      "image/png": "[encoded data removed]",
      "text/plain": [
       "<Figure size 500x300 with 1 Axes>"
      ]
     },
     "metadata": {},
     "output_type": "display_data"
    }
   ],
   "source": [
    "t, y = ct.step_response(Gs, 25)\n",
    "plt.figure(figsize=(5, 3))\n",
    "plt.plot(t, y)\n",
    "plt.title(\"Resposta ao degrau Unitário\")\n",
    "plt.xlabel(\"Tempo (s)\")\n",
    "plt.ylabel(\"Amplitude\")\n",
    "plt.grid()\n",
    "plt.show()\n"
   ]
  },
  {
   "attachments": {},
   "cell_type": "markdown",
   "metadata": {},
   "source": [
    "Obtendo as características do sistema"
   ]
  },
  {
   "cell_type": "code",
   "execution_count": 36,
   "metadata": {},
   "outputs": [
    {
     "data": {
      "text/plain": [
       "{'RiseTime': 6.913250385791657,\n",
       " 'SettlingTime': nan,\n",
       " 'SettlingMin': 8.763571920181294,\n",
       " 'SettlingMax': 9.69458477125512,\n",
       " 'Overshoot': 0,\n",
       " 'Undershoot': 0,\n",
       " 'Peak': 9.488737258747634,\n",
       " 'PeakTime': 12.00722435426972,\n",
       " 'SteadyStateValue': 9.69458477125512}"
      ]
     },
     "execution_count": 36,
     "metadata": {},
     "output_type": "execute_result"
    }
   ],
   "source": [
    "ct.step_info(Gs)"
   ]
  },
  {
   "attachments": {},
   "cell_type": "markdown",
   "metadata": {},
   "source": [
    "O sistema em malha aberta é estável, o gráfico mostra que o sinal de saída se estabilisa em um patamar proximo de 10, além disso, a função step_info mostra outras caracteristicas do sistema, por exemplo, sobresinal = 0%."
   ]
  },
  {
   "attachments": {},
   "cell_type": "markdown",
   "metadata": {},
   "source": [
    "#### Aplicando uma Realimentação Proporcional no Sistema"
   ]
  },
  {
   "cell_type": "code",
   "execution_count": 37,
   "metadata": {},
   "outputs": [
    {
     "name": "stdout",
     "output_type": "stream",
     "text": [
      "\n",
      "Polos de Malha Fechada: \n",
      "[-2.0002535 +0.j          0.07670175+1.53069856j  0.07670175-1.53069856j]\n"
     ]
    },
    {
     "data": {
      "image/png": "[encoded data removed]",
      "text/plain": [
       "<Figure size 500x300 with 1 Axes>"
      ]
     },
     "metadata": {},
     "output_type": "display_data"
    }
   ],
   "source": [
    "Cs = 2\n",
    "Gmf = ct.feedback(Cs*Gs, 1, -1)\n",
    "print(\"\\nPolos de Malha Fechada: \")\n",
    "print(ct.poles(Gmf))\n",
    "t1, y1 = ct.step_response(Gmf, T=70)\n",
    "\n",
    "plt.figure(figsize=(5, 3))\n",
    "plt.plot(t1, y1)\n",
    "plt.title(\"Malha Fechada para Proporcional\")\n",
    "plt.xlabel(\"Tempo (s)\")\n",
    "plt.ylabel(\"Amplitude\")\n",
    "plt.grid()\n",
    "plt.show()\n"
   ]
  },
  {
   "cell_type": "code",
   "execution_count": 38,
   "metadata": {},
   "outputs": [
    {
     "data": {
      "text/plain": [
       "{'RiseTime': 0.7597080997524572,\n",
       " 'SettlingTime': nan,\n",
       " 'SettlingMin': -617.2940150370049,\n",
       " 'SettlingMax': 694.4405277155371,\n",
       " 'Overshoot': 72925.64261836481,\n",
       " 'Undershoot': 64913.10678660909,\n",
       " 'Peak': 694.4405277155371,\n",
       " 'PeakTime': 88.47146143480889,\n",
       " 'SteadyStateValue': 0.9509543535887983}"
      ]
     },
     "execution_count": 38,
     "metadata": {},
     "output_type": "execute_result"
    }
   ],
   "source": [
    "ct.step_info(Gmf)"
   ]
  },
  {
   "attachments": {},
   "cell_type": "markdown",
   "metadata": {},
   "source": [
    "O Controlador proporcional faz tira o sistema da estabilidade, tornando ele instável, isso mostra que a importancia de projetar corretamente um controlador para aplicar ao sistema, caso contrário, pode piorar a situação e tornar o sistema instável."
   ]
  },
  {
   "attachments": {},
   "cell_type": "markdown",
   "metadata": {},
   "source": [
    "## Solução 2.\n",
    "2. *Proponha especificações de desempenho em malha fechada com base na análise de malha aberta do item 1 (20%).*\n",
    "\n",
    "\n",
    " espeficifações do projeto:\n",
    "\n",
    "\n",
    "**Sobrecinal $\\le 5\\%$**\\\n",
    "**Frequência natural $w_n$ ser 2x maior**"
   ]
  },
  {
   "attachments": {},
   "cell_type": "markdown",
   "metadata": {},
   "source": [
    "$$\n",
    "    \\xi = \\frac{-\\ln{(\\%UP/100)}}{\\sqrt{\\pi^2+\\ln^2{(\\%UP/100)}}}\n",
    "$$"
   ]
  },
  {
   "cell_type": "code",
   "execution_count": 39,
   "metadata": {},
   "outputs": [
    {
     "data": {
      "text/latex": [
       "$\\xi = 0.6901067305598217$"
      ],
      "text/plain": [
       "<IPython.core.display.Latex object>"
      ]
     },
     "metadata": {},
     "output_type": "display_data"
    },
    {
     "data": {
      "text/latex": [
       "$p_{1,2} = -0.8323\\pm 0.8728j$"
      ],
      "text/plain": [
       "<IPython.core.display.Latex object>"
      ]
     },
     "metadata": {},
     "output_type": "display_data"
    }
   ],
   "source": [
    "from IPython.display import display, Latex\n",
    "\n",
    "wn = 2*0.603\n",
    "Up = 5\n",
    "\n",
    "xi = (-np.log(Up/100))/(np.sqrt(np.pi**2+np.log(Up/100)**2))\n",
    "display(Latex(f\"$\\\\xi = {xi}$\"))\n",
    "\n",
    "# Pólos dominantes a partir dos requisitos desejados\n",
    "p = -xi*wn+1j*wn*np.sqrt(1-xi**2)\n",
    "display(Latex(f\"$p_{{1,2}} = {np.real(p):.4f}\\pm {np.imag(p):.4f}j$\"))"
   ]
  },
  {
   "attachments": {},
   "cell_type": "markdown",
   "metadata": {},
   "source": [
    "Temos conhecimento de que o sistema é de terceira ordem. Ao introduzirmos o integrador, ele passará a ser de quarta ordem (antes do observador). Portanto, além dos polos dominantes, devemos alocar mais dois polos. Optaremos por colocar um polo acima do zero, para cancelar, e outro polo real arbitrário, cuja parte real será quatro vezes maior que a parte real do polo dominante."
   ]
  },
  {
   "cell_type": "code",
   "execution_count": 40,
   "metadata": {},
   "outputs": [
    {
     "name": "stdout",
     "output_type": "stream",
     "text": [
      "[(-0.832268717055145+0.8727913740473051j), (-0.832268717055145-0.8727913740473051j), (-4.909890109890109+0j), -3.32907486822058]\n",
      "[ 1.          9.90350241 31.51389339 39.19056374 23.77332623]\n"
     ]
    }
   ],
   "source": [
    "polos_desejados = [p,np.conjugate(p),ct.zeros(Gs)[0],4*np.real(p)]\n",
    "print(polos_desejados)\n",
    "poli_mf = np.poly(polos_desejados)\n",
    "print(poli_mf)"
   ]
  },
  {
   "attachments": {},
   "cell_type": "markdown",
   "metadata": {},
   "source": [
    "## Solução 3.\n",
    "3. *Projete um compensador de estados de ordem completa, de acordo com as especificações estabelecidas no item 2 e também forneça rejeição à distúrbios do tipo degrau. Justifique as escolhas de todos os pólos e apresente as funções de transferência do compensador ao final (35%).*\n"
   ]
  },
  {
   "attachments": {},
   "cell_type": "markdown",
   "metadata": {},
   "source": [
    "Então o polinômio desejado é:\n",
    "$$\n",
    "\\begin{align}\n",
    "    \\alpha(s) &=s^4 + 9.903s^3 + 31.51s^2 + 39.19s + 23.77\n",
    "\\end{align}\n",
    "$$\n",
    "\n",
    "Vamos agora definir o sistema no espaço de estados usando FCC"
   ]
  },
  {
   "cell_type": "code",
   "execution_count": 41,
   "metadata": {},
   "outputs": [
    {
     "data": {
      "text/plain": [
       "array([[-1.84685   , -1.13207534, -0.23043793],\n",
       "       [ 1.        ,  0.        ,  0.        ],\n",
       "       [ 0.        ,  1.        ,  0.        ]])"
      ]
     },
     "execution_count": 41,
     "metadata": {},
     "output_type": "execute_result"
    }
   ],
   "source": [
    "F = np.block([[-den[1:]],[np.eye(2), np.zeros((2,1))]])\n",
    "G = np.block([[1],[np.zeros((2,1))]])\n",
    "H = np.block([[0,num]])\n",
    "J = 0\n",
    "n = F.shape[0]\n",
    "\n",
    "F"
   ]
  },
  {
   "attachments": {},
   "cell_type": "markdown",
   "metadata": {},
   "source": [
    "A partir das matrizes acima, podemos aumentar as matrizes para o projeto com integrador:"
   ]
  },
  {
   "cell_type": "code",
   "execution_count": 42,
   "metadata": {},
   "outputs": [
    {
     "name": "stdout",
     "output_type": "stream",
     "text": [
      "[[-1.84685    -1.13207534 -0.23043793  0.        ]\n",
      " [ 1.          0.          0.          0.        ]\n",
      " [ 0.          1.          0.          0.        ]\n",
      " [-0.         -0.455      -2.234       0.        ]]\n",
      "\n",
      "[[1.]\n",
      " [0.]\n",
      " [0.]\n",
      " [0.]]\n"
     ]
    }
   ],
   "source": [
    "Fa = np.block([ [   F,   np.zeros((n,1)) ],\n",
    "                [  -H,   0          ]])\n",
    "\n",
    "Ga = np.block([[G], [0]])\n",
    "\n",
    "print(Fa)\n",
    "print(\"\")\n",
    "print(Ga)"
   ]
  },
  {
   "attachments": {},
   "cell_type": "markdown",
   "metadata": {},
   "source": [
    "\n",
    "Alocação de polos com integrador"
   ]
  },
  {
   "cell_type": "code",
   "execution_count": 43,
   "metadata": {},
   "outputs": [
    {
     "name": "stdout",
     "output_type": "stream",
     "text": [
      "[[  8.05665241  30.38181805  34.11819948 -10.64159634]]\n",
      "\n",
      "[[ 8.05665241 30.38181805 34.11819948]]\n",
      "\n",
      "[-10.64159634]\n"
     ]
    }
   ],
   "source": [
    "Ka = ct.acker(Fa,Ga,polos_desejados)\n",
    "K = Ka[:,0:n]\n",
    "Ki = Ka[:,-1]\n",
    "print(Ka)\n",
    "print(\"\")\n",
    "print(K)\n",
    "print(\"\")\n",
    "print(Ki)"
   ]
  },
  {
   "attachments": {},
   "cell_type": "markdown",
   "metadata": {},
   "source": [
    "Será usado Polos do observador reais e iguais, a um fator de 4 da parte real dos pólos dominantes:"
   ]
  },
  {
   "cell_type": "code",
   "execution_count": 44,
   "metadata": {},
   "outputs": [
    {
     "name": "stdout",
     "output_type": "stream",
     "text": [
      "Ganhos do observador. L = \n",
      "[[0.03924773]\n",
      " [7.63842191]\n",
      " [2.08813457]]\n"
     ]
    }
   ],
   "source": [
    "po = 4*np.real(p)\n",
    "#print(po)\n",
    "L = ct.acker(F.T, H.T, [po]*n).T      # [po]*n = repete a lista n vezes, ou seja [po,po,po]\n",
    "print(\"Ganhos do observador. L = \")\n",
    "print(L)"
   ]
  },
  {
   "attachments": {},
   "cell_type": "markdown",
   "metadata": {},
   "source": [
    "#### Equações do controlador"
   ]
  },
  {
   "cell_type": "code",
   "execution_count": 45,
   "metadata": {},
   "outputs": [
    {
     "name": "stdout",
     "output_type": "stream",
     "text": [
      "<LinearIOSystem>: sys[76]\n",
      "Inputs (2): ['u[0]', 'u[1]']\n",
      "Outputs (1): ['y[0]']\n",
      "States (4): ['x[0]', 'x[1]', 'x[2]', 'x[3]']\n",
      "\n",
      "A = [[ -9.90350241 -31.53175111 -34.43631683   0.        ]\n",
      "     [  1.          -3.47548197 -17.06423454   0.        ]\n",
      "     [  0.           0.04989877  -4.66489264   0.        ]\n",
      "     [  0.           0.           0.           0.        ]]\n",
      "\n",
      "B = [[ 0.03924773  0.        ]\n",
      "     [ 7.63842191  0.        ]\n",
      "     [ 2.08813457  0.        ]\n",
      "     [-1.          1.        ]]\n",
      "\n",
      "C = [[ -8.05665241 -30.38181805 -34.11819948  10.64159634]]\n",
      "\n",
      "D = [[0. 0.]]\n",
      "\n"
     ]
    }
   ],
   "source": [
    "Fc = np.block([[F-G@K-L@H, np.zeros((n,1))],[np.zeros((1,n+1))]])\n",
    "Gc = np.block([[L, np.zeros((n,1))],[np.array([-1,1])]])\n",
    "Hc = -Ka\n",
    "cont = ct.ss(Fc,Gc,Hc,0)\n",
    "print(cont)"
   ]
  },
  {
   "attachments": {},
   "cell_type": "markdown",
   "metadata": {},
   "source": [
    "#### Funções de transferência para o controlador"
   ]
  },
  {
   "cell_type": "code",
   "execution_count": 46,
   "metadata": {},
   "outputs": [
    {
     "data": {
      "text/latex": [
       "$$\\begin{bmatrix}\\frac{-314.3 s^3 - 940.4 s^2 - 1910 s - 3382}{s^4 + 18.04 s^3 + 129.2 s^2 + 317.8 s + 4.547 \\times 10^{-13}}\\frac{10.64 s^3 + 192 s^2 + 1375 s + 3382}{s^4 + 18.04 s^3 + 129.2 s^2 + 317.8 s + 4.547 \\times 10^{-13}}\\\\ \\end{bmatrix}$$"
      ],
      "text/plain": [
       "TransferFunction([[array([ -314.27033816,  -940.4452486 , -1909.54300479, -3381.96584134]), array([  10.64159634,  192.01565564, 1375.04541306, 3381.96584134])]], [[array([1.00000000e+00, 1.80438770e+01, 1.29214205e+02, 3.17806251e+02,\n",
       "       4.54747351e-13]), array([1.00000000e+00, 1.80438770e+01, 1.29214205e+02, 3.17806251e+02,\n",
       "       4.54747351e-13])]])"
      ]
     },
     "execution_count": 46,
     "metadata": {},
     "output_type": "execute_result"
    }
   ],
   "source": [
    "(ct.tf(cont))"
   ]
  },
  {
   "attachments": {},
   "cell_type": "markdown",
   "metadata": {},
   "source": [
    "## Solução 4.\n",
    "4. *Analise e simule o sistema em malha fechada. Plote e analise os sinais de saída e de controle (20%). Opcional: faça uma análise de resposta a uma perturbação (+10% extra)*"
   ]
  },
  {
   "attachments": {},
   "cell_type": "markdown",
   "metadata": {},
   "source": [
    "\n",
    "#### Simulações"
   ]
  },
  {
   "cell_type": "code",
   "execution_count": 47,
   "metadata": {},
   "outputs": [
    {
     "name": "stdout",
     "output_type": "stream",
     "text": [
      "_____Eigenvalue______ Damping___ Frequency_\n",
      "   -0.8323   +0.8728j     0.6901      1.206\n",
      "   -0.8323   -0.8728j     0.6901      1.206\n",
      "    -3.328+0.0005828j          1      3.328\n",
      "    -3.328-0.0005828j          1      3.328\n",
      "     -3.33+0.0005819j          1       3.33\n",
      "     -3.33-0.0005819j          1       3.33\n",
      "     -4.91                     1       4.91\n",
      "\n",
      "[-4.90989011+0.00000000e+00j -3.32903011+0.00000000e+00j\n",
      " -3.32909725+3.87606175e-05j -3.32909725-3.87606175e-05j]\n"
     ]
    }
   ],
   "source": [
    "Fmf = np.block([[F,-G@K,-G*Ki],[L@H,F-G@K-L@H,-G*Ki],[-H,np.zeros((1,n+1))]])\n",
    "Gmf = np.block([[np.zeros((2*n,1))],[1]])\n",
    "Hmf_y = np.block([[H,np.zeros((1,n+1))]])\n",
    "Hmf_u = np.block([[-Ka,np.zeros((1,n))]])\n",
    "Jmf = 0\n",
    "MF_y = ct.ss(Fmf,Gmf,Hmf_y,Jmf)\n",
    "MF_u = ct.ss(Fmf,Gmf,Hmf_u,Jmf)\n",
    "#print(MF)\n",
    "T=(ct.damp(MF_y))\n",
    "print(\"\")\n",
    "print(ct.zeros(MF_y))"
   ]
  },
  {
   "cell_type": "code",
   "execution_count": 48,
   "metadata": {},
   "outputs": [
    {
     "data": {
      "text/plain": [
       "{'RiseTime': 1.8850642591324327,\n",
       " 'SettlingTime': 5.289434040550707,\n",
       " 'SettlingMin': 0.9063622522598286,\n",
       " 'SettlingMax': 1.045663690960417,\n",
       " 'Overshoot': 4.566369096041702,\n",
       " 'Undershoot': 0,\n",
       " 'Peak': 1.045663690960417,\n",
       " 'PeakTime': 3.995210817862768,\n",
       " 'SteadyStateValue': 0.9999999999999999}"
      ]
     },
     "execution_count": 48,
     "metadata": {},
     "output_type": "execute_result"
    }
   ],
   "source": [
    "ct.step_info(MF_y)"
   ]
  },
  {
   "cell_type": "code",
   "execution_count": 49,
   "metadata": {},
   "outputs": [],
   "source": [
    "ts = 4/abs(np.real(p))\n",
    "t,y = ct.step_response(MF_y,3*ts)\n",
    "t,u = ct.step_response(MF_u,3*ts)\n"
   ]
  },
  {
   "cell_type": "code",
   "execution_count": 50,
   "metadata": {},
   "outputs": [
    {
     "data": {
      "image/png": "[encoded data removed]",
      "text/plain": [
       "<Figure size 500x300 with 1 Axes>"
      ]
     },
     "metadata": {},
     "output_type": "display_data"
    }
   ],
   "source": [
    "plt.figure(figsize=(5, 3))\n",
    "plt.plot(t, y)\n",
    "np.max(y)\n",
    "plt.title(\"Saída do Planta\")\n",
    "plt.xlabel(\"Tempo (s)\")\n",
    "plt.ylabel(\"Amplitude\")\n",
    "plt.grid()\n",
    "plt.show()"
   ]
  },
  {
   "attachments": {},
   "cell_type": "markdown",
   "metadata": {},
   "source": [
    "O sinal de saída com o controle em malha fechada tem erro em regime permanente nulo, além de o tempo de acomodação ser menor em relação ao sistema em malha aberta, o sobresinal está abaixo do valor especificado nos requisitos de projeto, sim como a frequência natual dos polos dominantes cumprirem com o requisito estipulado."
   ]
  },
  {
   "cell_type": "code",
   "execution_count": 51,
   "metadata": {},
   "outputs": [
    {
     "data": {
      "image/png": "[encoded data removed]",
      "text/plain": [
       "<Figure size 500x300 with 1 Axes>"
      ]
     },
     "metadata": {},
     "output_type": "display_data"
    }
   ],
   "source": [
    "plt.figure(figsize=(5, 3))\n",
    "plt.plot(t,u)\n",
    "np.max(y)\n",
    "plt.title(\"Resposta do Controlador\")\n",
    "plt.xlabel(\"Tempo (s)\")\n",
    "plt.ylabel(\"Amplitude\")\n",
    "plt.grid()\n",
    "\n",
    "plt.show()"
   ]
  },
  {
   "attachments": {},
   "cell_type": "markdown",
   "metadata": {},
   "source": [
    "O sinal de controle possui amplitude relativamente baixa, possibilitando sua implementação em uma planta real."
   ]
  }
 ],
 "metadata": {
  "kernelspec": {
   "display_name": "Python 3.9.12 ('base')",
   "language": "python",
   "name": "python3"
  },
  "language_info": {
   "codemirror_mode": {
    "name": "ipython",
    "version": 3
   },
   "file_extension": ".py",
   "mimetype": "text/x-python",
   "name": "python",
   "nbconvert_exporter": "python",
   "pygments_lexer": "ipython3",
   "version": "3.10.8"
  },
  "orig_nbformat": 4,
  "vscode": {
   "interpreter": {
    "hash": "3e3763a57b4ffe0d06e963ec4b7f8ef3a748cbfdb342037439726ee83e94c05b"
   }
  }
 },
 "nbformat": 4,
 "nbformat_minor": 2
}
